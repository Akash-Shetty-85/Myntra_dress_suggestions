{
 "cells": [
  {
   "cell_type": "code",
   "execution_count": null,
   "metadata": {},
   "outputs": [],
   "source": [
    "import os\n",
    "import cv2\n",
    "import numpy as np\n",
    "\n",
    "def preprocess_images(input_dir, output_dir, image_size=(128, 128)):\n",
    "    if not os.path.exists(output_dir):\n",
    "        os.makedirs(output_dir)\n",
    "    \n",
    "    categories = os.listdir(input_dir)\n",
    "    for category in categories:\n",
    "        category_path = os.path.join(input_dir, category)\n",
    "        if not os.path.isdir(category_path):\n",
    "            continue\n",
    "        \n",
    "        output_category_path = os.path.join(output_dir, category)\n",
    "        if not os.path.exists(output_category_path):\n",
    "            os.makedirs(output_category_path)\n",
    "        \n",
    "        for image_name in os.listdir(category_path):\n",
    "            image_path = os.path.join(category_path, image_name)\n",
    "            image = cv2.imread(image_path)\n",
    "            image = cv2.resize(image, image_size)\n",
    "            cv2.imwrite(os.path.join(output_category_path, image_name), image)\n",
    "\n",
    "input_dir = '../data/raw'\n",
    "output_dir = '../data/processed'\n",
    "preprocess_images(input_dir, output_dir)\n"
   ]
  }
 ],
 "metadata": {
  "language_info": {
   "name": "python"
  }
 },
 "nbformat": 4,
 "nbformat_minor": 2
}
